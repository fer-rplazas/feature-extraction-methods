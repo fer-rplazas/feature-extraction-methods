{
 "cells": [
  {
   "cell_type": "code",
   "execution_count": 1,
   "metadata": {},
   "outputs": [
    {
     "data": {
      "application/javascript": [
       "IPython.notebook.set_autosave_interval(10000)"
      ]
     },
     "metadata": {},
     "output_type": "display_data"
    },
    {
     "name": "stdout",
     "output_type": "stream",
     "text": [
      "Autosaving every 10 seconds\n"
     ]
    }
   ],
   "source": [
    "%load_ext autoreload\n",
    "%autoreload 2\n",
    "\n",
    "%autosave 10"
   ]
  },
  {
   "cell_type": "code",
   "execution_count": 19,
   "metadata": {},
   "outputs": [],
   "source": [
    "import sys\n",
    "sys.path.append('../code/') # Make code in \"tools\" folder visible to python interpreter\n",
    "\n",
    "import os\n",
    "import warnings\n",
    "\n",
    "import numpy as np\n",
    "from scipy import signal\n",
    "\n",
    "import matplotlib.pyplot as plt\n",
    "import seaborn as sns\n",
    "#sns.set_palette(\"Set2\")\n",
    "%matplotlib widget\n",
    "\n",
    "plt.rcParams.update(\n",
    "    {\n",
    "        \"text.usetex\": True,\n",
    "        \"font.family\": \"serif\",\n",
    "        \"font.serif\": [\"Palatino\"],\n",
    "    }\n",
    ")\n",
    "\n",
    "import torch\n",
    "from torchinfo import summary\n",
    "\n",
    "from matplotlib.colors import ListedColormap\n",
    "#plt.rcParams[\"image.cmap\"] = ListedColormap(sns.color_palette(as_cmap=True))\n",
    "\n",
    "import pytorch_lightning as pl\n",
    "from pytorch_lightning.callbacks import ModelCheckpoint\n",
    "from pytorch_lightning.loggers import TensorBoardLogger\n",
    "\n",
    "from tools.data_generation import DataGenerator\n",
    "from tools.data_processing import Dataset\n",
    "from tools.svm import SVMClassifier\n",
    "from tools.patient_data import PatDataset, PatID, Stim, Task\n",
    "from tools.nn_training import Module"
   ]
  },
  {
   "cell_type": "code",
   "execution_count": 5,
   "metadata": {},
   "outputs": [],
   "source": [
    "Fs = 2048"
   ]
  },
  {
   "cell_type": "markdown",
   "metadata": {},
   "source": [
    "# Generate data:\n"
   ]
  },
  {
   "cell_type": "code",
   "execution_count": 7,
   "metadata": {},
   "outputs": [],
   "source": [
    "beta_gamma_cfg = {\n",
    "    \"betas\": None,\n",
    "    \"gammas\": None,\n",
    "    \"beta_sharpness\": None,\n",
    "    \"phase\": None,\n",
    "    \"pac\": None,\n",
    "    \"cross_pac\": None,\n",
    "    \"phase_shift\": [0.3, 0.7],\n",
    "    \"burst_length\": None,\n",
    "}"
   ]
  },
  {
   "cell_type": "code",
   "execution_count": 11,
   "metadata": {},
   "outputs": [
    {
     "name": "stderr",
     "output_type": "stream",
     "text": [
      "[Parallel(n_jobs=1)]: Using backend SequentialBackend with 1 concurrent workers.\n",
      "[Parallel(n_jobs=1)]: Done   1 out of   1 | elapsed:    6.5s remaining:    0.0s\n",
      "[Parallel(n_jobs=1)]: Done   2 out of   2 | elapsed:   13.1s remaining:    0.0s\n",
      "[Parallel(n_jobs=1)]: Done   2 out of   2 | elapsed:   13.1s finished\n"
     ]
    }
   ],
   "source": [
    "data = DataGenerator(beta_gamma_cfg, 0.7, Fs=Fs, T=1200)\n",
    "dataset = Dataset(data.signals, data.label, Fs, data_aug_intensity = 0.2, tf_transform=True, quantile_transform=False, feat_ar = True, ar_len = 10, window_length = 0.5, hop_size = 0.35, fold_id=0)"
   ]
  },
  {
   "cell_type": "code",
   "execution_count": 9,
   "metadata": {},
   "outputs": [],
   "source": [
    "start_idx = np.where(np.diff(data.label)>0)[0]\n",
    "end_idx = np.where(np.diff(data.label)<0)[0]"
   ]
  },
  {
   "cell_type": "code",
   "execution_count": 10,
   "metadata": {},
   "outputs": [
    {
     "data": {
      "text/plain": [
       "(13.189655172413794, 8.024653599896716)"
      ]
     },
     "execution_count": 10,
     "metadata": {},
     "output_type": "execute_result"
    }
   ],
   "source": [
    "durations = (end_idx - start_idx) / 2048.0\n",
    "durations.mean(), durations.std()"
   ]
  },
  {
   "cell_type": "markdown",
   "metadata": {},
   "source": [
    "# Classify:\n",
    "\n",
    "\n",
    "### SVM:"
   ]
  },
  {
   "cell_type": "code",
   "execution_count": 16,
   "metadata": {},
   "outputs": [
    {
     "data": {
      "text/plain": [
       "(1.0, 0.48380597014925375)"
      ]
     },
     "execution_count": 16,
     "metadata": {},
     "output_type": "execute_result"
    }
   ],
   "source": [
    "cls = SVMClassifier(\n",
    "        dataset.X_features_train_scaled,\n",
    "        dataset.X_features_valid_scaled,\n",
    "        dataset.y_train,\n",
    "        dataset.y_valid,\n",
    "    )\n",
    "\n",
    "cls.classify()"
   ]
  },
  {
   "cell_type": "code",
   "execution_count": 14,
   "metadata": {},
   "outputs": [
    {
     "data": {
      "text/plain": [
       "(0.5, 0.5)"
      ]
     },
     "execution_count": 14,
     "metadata": {},
     "output_type": "execute_result"
    }
   ],
   "source": [
    "cls = SVMClassifier(\n",
    "        dataset.X_features_ar_train,\n",
    "        dataset.X_features_ar_valid,\n",
    "        dataset.y_ar_train,\n",
    "        dataset.y_ar_valid,\n",
    "    )\n",
    "\n",
    "cls.classify()"
   ]
  },
  {
   "cell_type": "code",
   "execution_count": 15,
   "metadata": {
    "tags": []
   },
   "outputs": [],
   "source": [
    "def score_module(module, train_dataloader, valid_dataloader, accelerator='gpu', device=[0]):\n",
    "\n",
    "    trainer = pl.Trainer(\n",
    "        logger=True,\n",
    "        accelerator=accelerator,\n",
    "        devices=device,\n",
    "        callbacks=[\n",
    "            ModelCheckpoint(\n",
    "                save_weights_only=True,\n",
    "                mode=\"max\",\n",
    "                monitor=\"valid/bal_acc\",\n",
    "                save_top_k=1,\n",
    "            )\n",
    "        ],\n",
    "        max_epochs=150,\n",
    "    )\n",
    "    with warnings.catch_warnings():\n",
    "        warnings.filterwarnings(\n",
    "            \"ignore\", message=\"y_pred contains classes not in y_true\"\n",
    "        )\n",
    "        trainer.fit(module, train_dataloader, valid_dataloader)\n",
    "        module = module.load_from_checkpoint(trainer.checkpoint_callback.best_model_path)\n",
    "        train_score = trainer.validate(module, train_dataloader)[0][\"valid/bal_acc\"]\n",
    "        valid_score = trainer.validate(module, valid_dataloader)[0][\"valid/bal_acc\"]\n",
    "\n",
    "    return train_score, valid_score\n"
   ]
  },
  {
   "cell_type": "code",
   "execution_count": null,
   "metadata": {},
   "outputs": [],
   "source": []
  },
  {
   "cell_type": "code",
   "execution_count": 25,
   "metadata": {
    "tags": []
   },
   "outputs": [],
   "source": [
    "model_name = \"cnn1d\"\n",
    "model_hparams = {'n_channels': dataset.timeseries.shape[0], 'compress': True, 'depth':7, 'ks':25}\n",
    "# model_hparams = {'n_channels': dataset.timeseries.shape[0], 'n_samples': dataset.X_train[0].shape[-1], 'depth':7}\n",
    "opt_name = \"Adam\"\n",
    "opt_hparams = {'lr': 1e-3, \"weight_decay\": 0.0}\n",
    "\n",
    "module = Module(model_name, model_hparams, opt_name, opt_hparams, use_mixup=True)"
   ]
  },
  {
   "cell_type": "code",
   "execution_count": 28,
   "metadata": {},
   "outputs": [
    {
     "data": {
      "text/plain": [
       "=================================================================\n",
       "Layer (type:depth-idx)                   Param #\n",
       "=================================================================\n",
       "Module                                   --\n",
       "├─CNN1d: 1-1                             --\n",
       "│    └─Sequential: 2-1                   --\n",
       "│    │    └─BatchNorm1d: 3-1             4\n",
       "│    │    └─Compressor: 3-2              2\n",
       "│    │    └─BatchNorm1d: 3-3             4\n",
       "│    │    └─Conv1d: 3-4                  2,295\n",
       "│    │    └─SiLU: 3-5                    --\n",
       "│    │    └─BatchNorm1d: 3-6             90\n",
       "│    │    └─Compressor: 3-7              45\n",
       "│    │    └─Conv1d: 3-8                  50,670\n",
       "│    │    └─SiLU: 3-9                    --\n",
       "│    │    └─AvgPool1d: 3-10              --\n",
       "│    │    └─BatchNorm1d: 3-11            90\n",
       "│    │    └─Compressor: 3-12             45\n",
       "│    │    └─Conv1d: 3-13                 50,670\n",
       "│    │    └─SiLU: 3-14                   --\n",
       "│    │    └─AvgPool1d: 3-15              --\n",
       "│    │    └─BatchNorm1d: 3-16            90\n",
       "│    │    └─Compressor: 3-17             45\n",
       "│    │    └─Conv1d: 3-18                 50,670\n",
       "│    │    └─SiLU: 3-19                   --\n",
       "│    │    └─AvgPool1d: 3-20              --\n",
       "│    │    └─BatchNorm1d: 3-21            90\n",
       "│    │    └─Compressor: 3-22             45\n",
       "│    │    └─Conv1d: 3-23                 50,670\n",
       "│    │    └─SiLU: 3-24                   --\n",
       "│    │    └─AvgPool1d: 3-25              --\n",
       "│    │    └─BatchNorm1d: 3-26            90\n",
       "│    │    └─Compressor: 3-27             45\n",
       "│    │    └─Conv1d: 3-28                 50,670\n",
       "│    │    └─SiLU: 3-29                   --\n",
       "│    │    └─AvgPool1d: 3-30              --\n",
       "│    │    └─BatchNorm1d: 3-31            90\n",
       "│    │    └─Compressor: 3-32             45\n",
       "│    │    └─Conv1d: 3-33                 50,670\n",
       "│    │    └─SiLU: 3-34                   --\n",
       "│    │    └─AvgPool1d: 3-35              --\n",
       "│    │    └─BatchNorm1d: 3-36            90\n",
       "│    └─Sequential: 2-2                   --\n",
       "│    │    └─AdaptiveAvgPool1d: 3-37      --\n",
       "│    │    └─Flatten: 3-38                --\n",
       "│    │    └─Linear: 3-39                 46\n",
       "├─BCEWithLogitsLoss: 1-2                 --\n",
       "=================================================================\n",
       "Total params: 307,271\n",
       "Trainable params: 307,271\n",
       "Non-trainable params: 0\n",
       "================================================================="
      ]
     },
     "execution_count": 28,
     "metadata": {},
     "output_type": "execute_result"
    }
   ],
   "source": [
    "summary(module)"
   ]
  },
  {
   "cell_type": "code",
   "execution_count": 27,
   "metadata": {
    "collapsed": true,
    "jupyter": {
     "outputs_hidden": true
    },
    "tags": []
   },
   "outputs": [
    {
     "name": "stderr",
     "output_type": "stream",
     "text": [
      "GPU available: True (cuda), used: True\n",
      "TPU available: False, using: 0 TPU cores\n",
      "IPU available: False, using: 0 IPUs\n",
      "HPU available: False, using: 0 HPUs\n",
      "LOCAL_RANK: 0 - CUDA_VISIBLE_DEVICES: [0,1]\n",
      "\n",
      "  | Name        | Type              | Params\n",
      "--------------------------------------------------\n",
      "0 | model       | CNN1d             | 307 K \n",
      "1 | loss_module | BCEWithLogitsLoss | 0     \n",
      "--------------------------------------------------\n",
      "307 K     Trainable params\n",
      "0         Non-trainable params\n",
      "307 K     Total params\n",
      "1.229     Total estimated model params size (MB)\n"
     ]
    },
    {
     "data": {
      "application/vnd.jupyter.widget-view+json": {
       "model_id": "",
       "version_major": 2,
       "version_minor": 0
      },
      "text/plain": [
       "Sanity Checking: 0it [00:00, ?it/s]"
      ]
     },
     "metadata": {},
     "output_type": "display_data"
    },
    {
     "name": "stderr",
     "output_type": "stream",
     "text": [
      "/home/fernando/anaconda3/envs/test_env_3/lib/python3.10/site-packages/pytorch_lightning/trainer/connectors/data_connector.py:224: PossibleUserWarning: The dataloader, val_dataloader 0, does not have many workers which may be a bottleneck. Consider increasing the value of the `num_workers` argument` (try 96 which is the number of cpus on this machine) in the `DataLoader` init to improve performance.\n",
      "  rank_zero_warn(\n",
      "/home/fernando/anaconda3/envs/test_env_3/lib/python3.10/site-packages/pytorch_lightning/trainer/connectors/data_connector.py:224: PossibleUserWarning: The dataloader, train_dataloader, does not have many workers which may be a bottleneck. Consider increasing the value of the `num_workers` argument` (try 96 which is the number of cpus on this machine) in the `DataLoader` init to improve performance.\n",
      "  rank_zero_warn(\n",
      "/home/fernando/anaconda3/envs/test_env_3/lib/python3.10/site-packages/pytorch_lightning/trainer/trainer.py:1558: PossibleUserWarning: The number of training batches (28) is smaller than the logging interval Trainer(log_every_n_steps=50). Set a lower value for log_every_n_steps if you want to see logs for the training epoch.\n",
      "  rank_zero_warn(\n"
     ]
    },
    {
     "data": {
      "application/vnd.jupyter.widget-view+json": {
       "model_id": "48435a0da0834650a79c20fcdcf61ce1",
       "version_major": 2,
       "version_minor": 0
      },
      "text/plain": [
       "Training: 0it [00:00, ?it/s]"
      ]
     },
     "metadata": {},
     "output_type": "display_data"
    },
    {
     "data": {
      "application/vnd.jupyter.widget-view+json": {
       "model_id": "",
       "version_major": 2,
       "version_minor": 0
      },
      "text/plain": [
       "Validation: 0it [00:00, ?it/s]"
      ]
     },
     "metadata": {},
     "output_type": "display_data"
    },
    {
     "data": {
      "application/vnd.jupyter.widget-view+json": {
       "model_id": "",
       "version_major": 2,
       "version_minor": 0
      },
      "text/plain": [
       "Validation: 0it [00:00, ?it/s]"
      ]
     },
     "metadata": {},
     "output_type": "display_data"
    },
    {
     "name": "stderr",
     "output_type": "stream",
     "text": [
      "/home/fernando/anaconda3/envs/test_env_3/lib/python3.10/site-packages/pytorch_lightning/trainer/call.py:48: UserWarning: Detected KeyboardInterrupt, attempting graceful shutdown...\n",
      "  rank_zero_warn(\"Detected KeyboardInterrupt, attempting graceful shutdown...\")\n",
      "LOCAL_RANK: 0 - CUDA_VISIBLE_DEVICES: [0,1]\n",
      "/home/fernando/anaconda3/envs/test_env_3/lib/python3.10/site-packages/pytorch_lightning/trainer/connectors/data_connector.py:488: PossibleUserWarning: Your `val_dataloader`'s sampler has shuffling enabled, it is strongly recommended that you turn shuffling off for val/test/predict dataloaders.\n",
      "  rank_zero_warn(\n",
      "/home/fernando/anaconda3/envs/test_env_3/lib/python3.10/site-packages/pytorch_lightning/trainer/connectors/data_connector.py:224: PossibleUserWarning: The dataloader, val_dataloader 0, does not have many workers which may be a bottleneck. Consider increasing the value of the `num_workers` argument` (try 96 which is the number of cpus on this machine) in the `DataLoader` init to improve performance.\n",
      "  rank_zero_warn(\n"
     ]
    },
    {
     "data": {
      "application/vnd.jupyter.widget-view+json": {
       "model_id": "e9d31da8aacd4bb1af137124c9abbdbc",
       "version_major": 2,
       "version_minor": 0
      },
      "text/plain": [
       "Validation: 0it [00:00, ?it/s]"
      ]
     },
     "metadata": {},
     "output_type": "display_data"
    },
    {
     "name": "stderr",
     "output_type": "stream",
     "text": [
      "LOCAL_RANK: 0 - CUDA_VISIBLE_DEVICES: [0,1]\n"
     ]
    },
    {
     "name": "stdout",
     "output_type": "stream",
     "text": [
      "────────────────────────────────────────────────────────────────────────────────────────────────────────────────────────\n",
      "     Validate metric           DataLoader 0\n",
      "────────────────────────────────────────────────────────────────────────────────────────────────────────────────────────\n",
      "      valid/bal_acc         0.7386422488566032\n",
      "       valid/loss           0.5474483370780945\n",
      "       valid/score          1.1911939117785089\n",
      "────────────────────────────────────────────────────────────────────────────────────────────────────────────────────────\n"
     ]
    },
    {
     "name": "stderr",
     "output_type": "stream",
     "text": [
      "/home/fernando/anaconda3/envs/test_env_3/lib/python3.10/site-packages/pytorch_lightning/trainer/connectors/data_connector.py:224: PossibleUserWarning: The dataloader, val_dataloader 0, does not have many workers which may be a bottleneck. Consider increasing the value of the `num_workers` argument` (try 96 which is the number of cpus on this machine) in the `DataLoader` init to improve performance.\n",
      "  rank_zero_warn(\n"
     ]
    },
    {
     "data": {
      "application/vnd.jupyter.widget-view+json": {
       "model_id": "d515f756886843319f5f2b4057fa6a47",
       "version_major": 2,
       "version_minor": 0
      },
      "text/plain": [
       "Validation: 0it [00:00, ?it/s]"
      ]
     },
     "metadata": {},
     "output_type": "display_data"
    },
    {
     "name": "stdout",
     "output_type": "stream",
     "text": [
      "────────────────────────────────────────────────────────────────────────────────────────────────────────────────────────\n",
      "     Validate metric           DataLoader 0\n",
      "────────────────────────────────────────────────────────────────────────────────────────────────────────────────────────\n",
      "      valid/bal_acc         0.6248952522103178\n",
      "       valid/loss           0.7863929867744446\n",
      "       valid/score          0.8385022654358733\n",
      "────────────────────────────────────────────────────────────────────────────────────────────────────────────────────────\n"
     ]
    },
    {
     "data": {
      "text/plain": [
       "(0.7386422488566032, 0.6248952522103178)"
      ]
     },
     "execution_count": 27,
     "metadata": {},
     "output_type": "execute_result"
    }
   ],
   "source": [
    "score_module(module, dataset.train_dataloader(), dataset.valid_dataloader())"
   ]
  },
  {
   "cell_type": "code",
   "execution_count": null,
   "metadata": {},
   "outputs": [],
   "source": []
  },
  {
   "cell_type": "markdown",
   "metadata": {},
   "source": [
    "## Estimate FLOP count:"
   ]
  },
  {
   "cell_type": "code",
   "execution_count": 20,
   "metadata": {},
   "outputs": [
    {
     "data": {
      "text/plain": [
       "8.779733"
      ]
     },
     "execution_count": 20,
     "metadata": {},
     "output_type": "execute_result"
    }
   ],
   "source": [
    "module = Module.with_defaults_1d(1,**{'ks':35, 'depth':7, 'n_hidden':35})\n",
    "\n",
    "summary(module.model, input_size=(1,1,1024)).total_mult_adds / 10e6"
   ]
  },
  {
   "cell_type": "code",
   "execution_count": 21,
   "metadata": {},
   "outputs": [
    {
     "data": {
      "text/plain": [
       "Text(0, 0.5, '[log] \\\\#GFLOP / output')"
      ]
     },
     "execution_count": 21,
     "metadata": {},
     "output_type": "execute_result"
    },
    {
     "data": {
      "application/vnd.jupyter.widget-view+json": {
       "model_id": "f4f148dc6d0246c78a043f76c4a5123f",
       "version_major": 2,
       "version_minor": 0
      },
      "image/png": "[encoded data removed]",
      "text/html": [
       "\n",
       "            <div style=\"display: inline-block;\">\n",
       "                <div class=\"jupyter-widgets widget-label\" style=\"text-align: center;\">\n",
       "                    Figure\n",
       "                </div>\n",
       "                <img src='data:image/png;base64,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' width=640.0/>\n",
       "            </div>\n",
       "        "
      ],
      "text/plain": [
       "Canvas(toolbar=Toolbar(toolitems=[('Home', 'Reset original view', 'home', 'home'), ('Back', 'Back to previous …"
      ]
     },
     "metadata": {},
     "output_type": "display_data"
    }
   ],
   "source": [
    "fig, ax = plt.subplots()\n",
    "\n",
    "ax.bar(['SVM', 'AR-SVM', '1D-CNN', 'AR-1D-CNN', '2D-CNN'], [1, 3, 2*8.78, 2*8.78, 2*187.6+500], alpha=0.75)\n",
    "ax.set_yscale('log')\n",
    "\n",
    "ax.set_title('Estimated inference-time computational cost')\n",
    "ax.set_ylabel('[log] \\#GFLOP / output')"
   ]
  },
  {
   "cell_type": "code",
   "execution_count": null,
   "metadata": {},
   "outputs": [],
   "source": []
  }
 ],
 "metadata": {
  "kernelspec": {
   "display_name": "Python 3 (ipykernel)",
   "language": "python",
   "name": "python3"
  },
  "language_info": {
   "codemirror_mode": {
    "name": "ipython",
    "version": 3
   },
   "file_extension": ".py",
   "mimetype": "text/x-python",
   "name": "python",
   "nbconvert_exporter": "python",
   "pygments_lexer": "ipython3",
   "version": "3.10.8"
  },
  "vscode": {
   "interpreter": {
    "hash": "dcb25560e370683e783c067ecaab9e7daa9b771b70b6a9a542d42e296eed40c1"
   }
  }
 },
 "nbformat": 4,
 "nbformat_minor": 4
}
